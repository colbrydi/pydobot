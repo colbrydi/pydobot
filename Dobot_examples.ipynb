{
 "cells": [
  {
   "cell_type": "markdown",
   "metadata": {},
   "source": [
    "<img src=\"https://www.couponskiss.com/wp-content/uploads/2017/12/Dobot-Logo-200x200.png\" align='left'>\n",
    "<img src=\"https://www.eptecstore.com/wp-content/uploads/2018/03/S70-0480P01WL.jpg\" width=50%>\n",
    "\n",
    "This notebook explores the use of the Dobot Magician Robot"
   ]
  },
  {
   "cell_type": "code",
   "execution_count": null,
   "metadata": {
    "collapsed": true
   },
   "outputs": [],
   "source": [
    "#!pip install pydobot"
   ]
  },
  {
   "cell_type": "code",
   "execution_count": null,
   "metadata": {
    "collapsed": true
   },
   "outputs": [],
   "source": [
    "#!git clone https://github.com/luismesas/pydobot.git"
   ]
  },
  {
   "cell_type": "code",
   "execution_count": null,
   "metadata": {
    "collapsed": true
   },
   "outputs": [],
   "source": [
    "import pydobot"
   ]
  },
  {
   "cell_type": "code",
   "execution_count": null,
   "metadata": {
    "collapsed": false
   },
   "outputs": [],
   "source": [
    "import time\n",
    "from glob import glob\n",
    "\n",
    "from pydobot import Dobot\n",
    "\n",
    "available_ports = glob('/dev/cu*usb*')  # mask for OSX Dobot port\n",
    "if len(available_ports) == 0:\n",
    "    print('no port found for Dobot Magician')\n",
    "    exit(1)\n",
    "\n",
    "device = Dobot(port=available_ports[0])"
   ]
  },
  {
   "cell_type": "code",
   "execution_count": null,
   "metadata": {
    "collapsed": true
   },
   "outputs": [],
   "source": [
    "time.sleep(0.5)\n",
    "device.speed(100)\n",
    "device.go(0.0, 0.0, 0.0)"
   ]
  },
  {
   "cell_type": "code",
   "execution_count": null,
   "metadata": {
    "collapsed": false
   },
   "outputs": [],
   "source": [
    "device.speed(10)\n",
    "device.go(250.0, 0.0, 0.0)\n",
    "time.sleep(2)"
   ]
  },
  {
   "cell_type": "code",
   "execution_count": null,
   "metadata": {
    "collapsed": false
   },
   "outputs": [],
   "source": [
    "device.goj(0,0,0)"
   ]
  },
  {
   "cell_type": "code",
   "execution_count": null,
   "metadata": {
    "collapsed": false
   },
   "outputs": [],
   "source": [
    "device.goj(-45,0,0)"
   ]
  },
  {
   "cell_type": "markdown",
   "metadata": {},
   "source": [
    "###### "
   ]
  },
  {
   "cell_type": "code",
   "execution_count": null,
   "metadata": {
    "collapsed": false
   },
   "outputs": [],
   "source": [
    "# DOBOT Controler\n",
    "\n",
    "%matplotlib inline\n",
    "import numpy as np\n",
    "import math\n",
    "import matplotlib.pylab as plt\n",
    "from ipywidgets import interact\n",
    "from mpl_toolkits.mplot3d import Axes3D\n",
    "\n",
    "\n",
    "def Robot_Simulator(j1=0,j2=-0,j3=0):\n",
    "    device.goj(j1,j2,j3)\n",
    "    \n",
    "target = interact(Robot_Simulator, j1=(-90,90), j2=(-5,90), j3=(-15,50)); "
   ]
  },
  {
   "cell_type": "code",
   "execution_count": null,
   "metadata": {
    "collapsed": false
   },
   "outputs": [],
   "source": [
    "device.j1"
   ]
  },
  {
   "cell_type": "code",
   "execution_count": null,
   "metadata": {
    "collapsed": false
   },
   "outputs": [],
   "source": [
    "device.j2"
   ]
  },
  {
   "cell_type": "code",
   "execution_count": null,
   "metadata": {
    "collapsed": false
   },
   "outputs": [],
   "source": [
    "device.j3"
   ]
  },
  {
   "cell_type": "code",
   "execution_count": null,
   "metadata": {
    "collapsed": false
   },
   "outputs": [],
   "source": [
    "device.close()"
   ]
  },
  {
   "cell_type": "code",
   "execution_count": null,
   "metadata": {
    "collapsed": false
   },
   "outputs": [],
   "source": [
    "import numpy as np\n",
    "import math\n",
    "q1 = 0\n",
    "d1 = 1"
   ]
  },
  {
   "cell_type": "code",
   "execution_count": null,
   "metadata": {
    "collapsed": false
   },
   "outputs": [],
   "source": [
    "j1 = np.matrix([[math.sin(q1), -math.cos(q1), 0, 0], [math.cos(q1), math.sin(q1), 0, 0], [0,0, 1, 0, d1]])\n",
    "j1\n"
   ]
  },
  {
   "cell_type": "code",
   "execution_count": null,
   "metadata": {
    "collapsed": false
   },
   "outputs": [],
   "source": [
    "j2 = np.matrix([[math.sin(q1), -math.cos(q1), 0, 0], [math.cos(q1), math.sin(q1), 0, 0], [0,0, 1, 0, d1]])\n",
    "j2\n"
   ]
  },
  {
   "cell_type": "code",
   "execution_count": null,
   "metadata": {
    "collapsed": false
   },
   "outputs": [],
   "source": [
    "# DOBOT SIMULATOR\n",
    "\n",
    "%matplotlib inline\n",
    "import numpy as np\n",
    "import math\n",
    "import matplotlib.pylab as plt\n",
    "from ipywidgets import interact\n",
    "from mpl_toolkits.mplot3d import Axes3D\n",
    "\n",
    "\n",
    "def Robot_Simulator(j1=0,j2=-0,j3=0):\n",
    "    \n",
    "    #Convert input joint angles to radians\n",
    "    q1 = j1/180  * np.pi\n",
    "    q2 = j2/180  * np.pi\n",
    "    q3 = j3/180  * np.pi\n",
    "    \n",
    "    d1 = 2 #Base to second joint\n",
    "    d2 = 4 #Second to third joint\n",
    "    d3 = 4 #Third to end effector\n",
    "    dy = 1 #end effector y direction\n",
    "    dz = 2 #end effector z direction\n",
    "        \n",
    "    #Make the rigid-pen end effector\n",
    "    p = np.matrix([[0,dy, 3*dz/4, 1],\n",
    "                   [0,dy, -dz/4, 1],\n",
    "                   [0,dy,0,1], \n",
    "                   [0,0,0,1]]).T\n",
    "    \n",
    "\n",
    "    #From third to third (There is no motor here, we just need to subtract the angle)\n",
    "    J4 = np.matrix([[1, 0, 0, 0],\n",
    "                    [0, np.cos(-q3), -np.sin(-q3), d3 ], \n",
    "                    [0,  np.sin(-q3), np.cos(-q3), 0 ], \n",
    "                    [0, 0, 0, 1 ]])\n",
    "    p = np.concatenate( ( J4*p, np.matrix([0,0,0,1]).T), axis=1 )\n",
    "\n",
    "    #From Second to third (This is the tricky part because we need to subtract the secon angle due to joint coupling)\n",
    "    J3 = np.matrix([[1, 0, 0, 0],\n",
    "                    [0, np.cos(q3-q2), -np.sin(q3-q2), 0 ], \n",
    "                    [0,  np.sin(q3-q2), np.cos(q3-q2), -d2 ],  \n",
    "                    [0, 0, 0, 1 ]])\n",
    "    p = np.concatenate( ( J3*p, np.matrix([0,0,0,1]).T), axis=1 )\n",
    "    \n",
    "    #From first to Second Joint\n",
    "    J2 = np.matrix([[1, 0, 0, 0],\n",
    "                    [0, np.cos(q2), -np.sin(q2), 0 ], \n",
    "                    [0, np.sin(q2),  np.cos(q2), -d1 ], \n",
    "                    [0, 0, 0, 1 ]])\n",
    "    p = np.concatenate((J2*p, np.matrix([0,0,0,1]).T), axis=1 )\n",
    "    \n",
    "    #From base to first joint\n",
    "    J1 = np.matrix([[np.cos(q1), -np.sin(q1), 0, 0 ], \n",
    "                    [np.sin(q1), np.cos(q1), 0, 0 ], \n",
    "                    [0, 0, 1, 0],\n",
    "                    [0, 0, 0, 1]])\n",
    "    p = np.concatenate((J1*p, np.matrix([0,0,0,1]).T), axis=1 )\n",
    "                    \n",
    "    \n",
    "    fig = plt.figure(figsize=(5, 5))\n",
    "    ax = fig.add_subplot(111, projection='3d')\n",
    "\n",
    "    ax.scatter(p[0,:].tolist()[0],(p[1,:]).tolist()[0], (-p[2,:]).tolist()[0], s=20, facecolors='none', edgecolors='r')\n",
    "    ax.scatter(0,0,0, s=20, facecolors='r', edgecolors='r')\n",
    "    ax.plot(p[0,:].tolist()[0],(p[1,:]).tolist()[0], (-p[2,:]).tolist()[0])\n",
    "    ax.set_xlim([-10.5,10.5])\n",
    "    ax.set_ylim([-10.5,10.5])\n",
    "    ax.set_zlim([0,10.5])\n",
    "    ax.set_xlabel('x-axis')\n",
    "    ax.set_ylabel('y-axis')    \n",
    "    ax.set_zlabel('z-axis') \n",
    "\n",
    "    plt.show()\n",
    "    \n",
    "target = interact(Robot_Simulator, j1=(-180,180), j2=(-180,180), j3=(-180,180)); "
   ]
  },
  {
   "cell_type": "code",
   "execution_count": null,
   "metadata": {
    "collapsed": true
   },
   "outputs": [],
   "source": []
  }
 ],
 "metadata": {
  "kernelspec": {
   "display_name": "Python 3",
   "language": "python",
   "name": "python3"
  },
  "language_info": {
   "codemirror_mode": {
    "name": "ipython",
    "version": 3
   },
   "file_extension": ".py",
   "mimetype": "text/x-python",
   "name": "python",
   "nbconvert_exporter": "python",
   "pygments_lexer": "ipython3",
   "version": "3.4.5"
  }
 },
 "nbformat": 4,
 "nbformat_minor": 0
}
