{
 "cells": [
  {
   "cell_type": "markdown",
   "metadata": {},
   "source": [
    "<img src=\"https://www.couponskiss.com/wp-content/uploads/2017/12/Dobot-Logo-200x200.png\" align='left'>\n",
    "<img src=\"https://www.eptecstore.com/wp-content/uploads/2018/03/S70-0480P01WL.jpg\" width=50%>\n",
    "\n",
    "This notebook explores the use of the Dobot Magician Robot"
   ]
  },
  {
   "cell_type": "code",
   "execution_count": 27,
   "metadata": {
    "collapsed": true
   },
   "outputs": [],
   "source": [
    "#!pip install pydobot"
   ]
  },
  {
   "cell_type": "code",
   "execution_count": 28,
   "metadata": {
    "collapsed": true
   },
   "outputs": [],
   "source": [
    "#!git clone https://github.com/luismesas/pydobot.git"
   ]
  },
  {
   "cell_type": "code",
   "execution_count": 29,
   "metadata": {
    "collapsed": true
   },
   "outputs": [],
   "source": [
    "import sys\n",
    "sys.path.append('.')"
   ]
  },
  {
   "cell_type": "code",
   "execution_count": 30,
   "metadata": {
    "collapsed": true
   },
   "outputs": [],
   "source": [
    "import pydobot"
   ]
  },
  {
   "cell_type": "code",
   "execution_count": 32,
   "metadata": {
    "collapsed": false
   },
   "outputs": [],
   "source": [
    "import time\n",
    "from glob import glob\n",
    "\n",
    "from pydobot import Dobot\n",
    "\n",
    "available_ports = glob('/dev/cu*usb*')  # mask for OSX Dobot port\n",
    "if len(available_ports) == 0:\n",
    "    print('no port found for Dobot Magician')\n",
    "    exit(1)\n",
    "\n",
    "device = Dobot(port=available_ports[0])"
   ]
  },
  {
   "cell_type": "code",
   "execution_count": 35,
   "metadata": {
    "collapsed": true
   },
   "outputs": [],
   "source": [
    "time.sleep(0.5)\n",
    "device.speed(100)\n",
    "device.go(0.0, 0.0, 0.0)"
   ]
  },
  {
   "cell_type": "code",
   "execution_count": 36,
   "metadata": {
    "collapsed": false
   },
   "outputs": [],
   "source": [
    "device.speed(10)\n",
    "device.go(250.0, 0.0, 0.0)\n",
    "time.sleep(2)"
   ]
  },
  {
   "cell_type": "code",
   "execution_count": 15,
   "metadata": {
    "collapsed": false
   },
   "outputs": [
    {
     "ename": "AttributeError",
     "evalue": "'Dobot' object has no attribute 'goj'",
     "output_type": "error",
     "traceback": [
      "\u001b[0;31m---------------------------------------------------------------------------\u001b[0m",
      "\u001b[0;31mAttributeError\u001b[0m                            Traceback (most recent call last)",
      "\u001b[0;32m<ipython-input-15-ec78897976e7>\u001b[0m in \u001b[0;36m<module>\u001b[0;34m()\u001b[0m\n\u001b[0;32m----> 1\u001b[0;31m \u001b[0mdevice\u001b[0m\u001b[0;34m.\u001b[0m\u001b[0mgoj\u001b[0m\u001b[0;34m(\u001b[0m\u001b[0;36m0\u001b[0m\u001b[0;34m,\u001b[0m\u001b[0;36m0\u001b[0m\u001b[0;34m,\u001b[0m\u001b[0;36m0\u001b[0m\u001b[0;34m)\u001b[0m\u001b[0;34m\u001b[0m\u001b[0m\n\u001b[0m",
      "\u001b[0;31mAttributeError\u001b[0m: 'Dobot' object has no attribute 'goj'"
     ]
    }
   ],
   "source": [
    "device.goj(0,0,0)"
   ]
  },
  {
   "cell_type": "code",
   "execution_count": 16,
   "metadata": {
    "collapsed": false
   },
   "outputs": [
    {
     "ename": "AttributeError",
     "evalue": "'Dobot' object has no attribute 'goj'",
     "output_type": "error",
     "traceback": [
      "\u001b[0;31m---------------------------------------------------------------------------\u001b[0m",
      "\u001b[0;31mAttributeError\u001b[0m                            Traceback (most recent call last)",
      "\u001b[0;32m<ipython-input-16-084172df9d11>\u001b[0m in \u001b[0;36m<module>\u001b[0;34m()\u001b[0m\n\u001b[0;32m----> 1\u001b[0;31m \u001b[0mdevice\u001b[0m\u001b[0;34m.\u001b[0m\u001b[0mgoj\u001b[0m\u001b[0;34m(\u001b[0m\u001b[0;34m-\u001b[0m\u001b[0;36m45\u001b[0m\u001b[0;34m,\u001b[0m\u001b[0;36m0\u001b[0m\u001b[0;34m,\u001b[0m\u001b[0;36m0\u001b[0m\u001b[0;34m)\u001b[0m\u001b[0;34m\u001b[0m\u001b[0m\n\u001b[0m",
      "\u001b[0;31mAttributeError\u001b[0m: 'Dobot' object has no attribute 'goj'"
     ]
    }
   ],
   "source": [
    "device.goj(-45,0,0)"
   ]
  },
  {
   "cell_type": "markdown",
   "metadata": {},
   "source": [
    "###### "
   ]
  },
  {
   "cell_type": "code",
   "execution_count": 20,
   "metadata": {
    "collapsed": false
   },
   "outputs": [],
   "source": [
    "# DOBOT Controler\n",
    "\n",
    "%matplotlib inline\n",
    "import numpy as np\n",
    "import math\n",
    "import matplotlib.pylab as plt\n",
    "from ipywidgets import interact\n",
    "from mpl_toolkits.mplot3d import Axes3D\n",
    "\n",
    "\n",
    "def Robot_Simulator(j1=0,j2=-0,j3=0):\n",
    "    device.goj(j1,j2,j3)\n",
    "    \n",
    "target = interact(Robot_Simulator, j1=(-90,90), j2=(-5,90), j3=(-15,50)); "
   ]
  },
  {
   "cell_type": "code",
   "execution_count": 21,
   "metadata": {
    "collapsed": false
   },
   "outputs": [
    {
     "data": {
      "text/plain": [
       "90.0"
      ]
     },
     "execution_count": 21,
     "metadata": {},
     "output_type": "execute_result"
    }
   ],
   "source": [
    "device.j1"
   ]
  },
  {
   "cell_type": "code",
   "execution_count": 22,
   "metadata": {
    "collapsed": false
   },
   "outputs": [
    {
     "data": {
      "text/plain": [
       "79.0"
      ]
     },
     "execution_count": 22,
     "metadata": {},
     "output_type": "execute_result"
    }
   ],
   "source": [
    "device.j2"
   ]
  },
  {
   "cell_type": "code",
   "execution_count": 23,
   "metadata": {
    "collapsed": false
   },
   "outputs": [
    {
     "data": {
      "text/plain": [
       "50.0"
      ]
     },
     "execution_count": 23,
     "metadata": {},
     "output_type": "execute_result"
    }
   ],
   "source": [
    "device.j3"
   ]
  },
  {
   "cell_type": "code",
   "execution_count": 26,
   "metadata": {
    "collapsed": false
   },
   "outputs": [
    {
     "name": "stderr",
     "output_type": "stream",
     "text": [
      "Exception in thread Thread-6:\n",
      "Traceback (most recent call last):\n",
      "  File \"/Users/colbrydi/anaconda/lib/python3.4/site-packages/serial/serialposix.py\", line 537, in write\n",
      "    n = os.write(self.fd, d)\n",
      "OSError: [Errno 6] Device not configured\n",
      "\n",
      "During handling of the above exception, another exception occurred:\n",
      "\n",
      "Traceback (most recent call last):\n",
      "  File \"/Users/colbrydi/anaconda/lib/python3.4/threading.py\", line 911, in _bootstrap_inner\n",
      "    self.run()\n",
      "  File \"/Users/colbrydi/Desktop/Dobot/pydobot/pydobot/dobot.py\", line 52, in run\n",
      "    self._get_pose()\n",
      "  File \"/Users/colbrydi/Desktop/Dobot/pydobot/pydobot/dobot.py\", line 89, in _get_pose\n",
      "    response = self._send_command(msg)\n",
      "  File \"/Users/colbrydi/Desktop/Dobot/pydobot/pydobot/dobot.py\", line 65, in _send_command\n",
      "    self._send_message(msg)\n",
      "  File \"/Users/colbrydi/Desktop/Dobot/pydobot/pydobot/dobot.py\", line 74, in _send_message\n",
      "    self.ser.write(msg.bytes())\n",
      "  File \"/Users/colbrydi/anaconda/lib/python3.4/site-packages/serial/serialposix.py\", line 571, in write\n",
      "    raise SerialException('write failed: {}'.format(e))\n",
      "serial.serialutil.SerialException: write failed: [Errno 6] Device not configured\n",
      "\n"
     ]
    }
   ],
   "source": [
    "device.close()"
   ]
  },
  {
   "cell_type": "code",
   "execution_count": null,
   "metadata": {
    "collapsed": false
   },
   "outputs": [],
   "source": [
    "import numpy as np\n",
    "import math\n",
    "q1 = 0\n",
    "d1 = 1"
   ]
  },
  {
   "cell_type": "code",
   "execution_count": null,
   "metadata": {
    "collapsed": false
   },
   "outputs": [],
   "source": [
    "j1 = np.matrix([[math.sin(q1), -math.cos(q1), 0, 0], [math.cos(q1), math.sin(q1), 0, 0], [0,0, 1, 0, d1]])\n",
    "j1\n"
   ]
  },
  {
   "cell_type": "code",
   "execution_count": null,
   "metadata": {
    "collapsed": false
   },
   "outputs": [],
   "source": [
    "j2 = np.matrix([[math.sin(q1), -math.cos(q1), 0, 0], [math.cos(q1), math.sin(q1), 0, 0], [0,0, 1, 0, d1]])\n",
    "j2\n"
   ]
  },
  {
   "cell_type": "code",
   "execution_count": null,
   "metadata": {
    "collapsed": false
   },
   "outputs": [],
   "source": [
    "# DOBOT SIMULATOR\n",
    "\n",
    "%matplotlib inline\n",
    "import numpy as np\n",
    "import math\n",
    "import matplotlib.pylab as plt\n",
    "from ipywidgets import interact\n",
    "from mpl_toolkits.mplot3d import Axes3D\n",
    "\n",
    "\n",
    "def Robot_Simulator(j1=0,j2=-0,j3=0):\n",
    "    \n",
    "    #Convert input joint angles to radians\n",
    "    q1 = j1/180  * np.pi\n",
    "    q2 = j2/180  * np.pi\n",
    "    q3 = j3/180  * np.pi\n",
    "    \n",
    "    d1 = 2 #Base to second joint\n",
    "    d2 = 4 #Second to third joint\n",
    "    d3 = 4 #Third to end effector\n",
    "    dy = 1 #end effector y direction\n",
    "    dz = 2 #end effector z direction\n",
    "        \n",
    "    #Make the rigid end effector\n",
    "    p = np.matrix([[0,dy, dz, 1],[0,dy,0,1], [0,0,0,1]]).T\n",
    "\n",
    "\n",
    "    #From third to third (There is no motor here, we just need to subtract the angle)\n",
    "    J4 = np.matrix([[1, 0, 0, 0],\n",
    "                    [0, np.cos(-q3), -np.sin(-q3), d3 ], \n",
    "                    [0,  np.sin(-q3), np.cos(-q3), 0 ], \n",
    "                    [0, 0, 0, 1 ]])\n",
    "    p = np.concatenate( ( J4*p, np.matrix([0,0,0,1]).T), axis=1 )\n",
    "\n",
    "    #From Second to third (This is the tricky part because we need to subtract the secon angle due to joint coupling)\n",
    "    J3 = np.matrix([[1, 0, 0, 0],\n",
    "                    [0, np.cos(q3-q2), -np.sin(q3-q2), 0 ], \n",
    "                    [0,  np.sin(q3-q2), np.cos(q3-q2), -d2 ],  \n",
    "                    [0, 0, 0, 1 ]])\n",
    "    p = np.concatenate( ( J3*p, np.matrix([0,0,0,1]).T), axis=1 )\n",
    "    \n",
    "    #From first to Second Joint\n",
    "    J2 = np.matrix([[1, 0, 0, 0],\n",
    "                    [0, np.cos(q2), -np.sin(q2), 0 ], \n",
    "                    [0, np.sin(q2),  np.cos(q2), -d1 ], \n",
    "                    [0, 0, 0, 1 ]])\n",
    "    p = np.concatenate((J2*p, np.matrix([0,0,0,1]).T), axis=1 )\n",
    "    \n",
    "    #From base to first joint\n",
    "    J1 = np.matrix([[np.cos(q1), -np.sin(q1), 0, 0 ], \n",
    "                    [np.sin(q1), np.cos(q1), 0, 0 ], \n",
    "                    [0, 0, 1, 0],\n",
    "                    [0, 0, 0, 1]])\n",
    "    p = np.concatenate((J1*p, np.matrix([0,0,0,1]).T), axis=1 )\n",
    "                    \n",
    "    \n",
    "    fig = plt.figure(figsize=(10, 10))\n",
    "    ax = fig.add_subplot(111, projection='3d')\n",
    "\n",
    "    ax.scatter(p[0,:].tolist()[0],(p[1,:]).tolist()[0], (-p[2,:]).tolist()[0], s=20, facecolors='none', edgecolors='r')\n",
    "    ax.scatter(0,0,0, s=20, facecolors='r', edgecolors='r')\n",
    "    ax.plot(p[0,:].tolist()[0],(p[1,:]).tolist()[0], (-p[2,:]).tolist()[0])\n",
    "    ax.set_xlim([-10.5,10.5])\n",
    "    ax.set_ylim([-10.5,10.5])\n",
    "    ax.set_zlim([0,10.5])\n",
    "    ax.set_xlabel('x-axis')\n",
    "    ax.set_ylabel('y-axis')    \n",
    "    ax.set_zlabel('z-axis') \n",
    "\n",
    "    plt.show()\n",
    "    \n",
    "target = interact(Robot_Simulator, j1=(-180,180), j2=(-180,180), j3=(-180,180)); "
   ]
  },
  {
   "cell_type": "code",
   "execution_count": null,
   "metadata": {
    "collapsed": true
   },
   "outputs": [],
   "source": []
  }
 ],
 "metadata": {
  "kernelspec": {
   "display_name": "Python 3",
   "language": "python",
   "name": "python3"
  },
  "language_info": {
   "codemirror_mode": {
    "name": "ipython",
    "version": 3
   },
   "file_extension": ".py",
   "mimetype": "text/x-python",
   "name": "python",
   "nbconvert_exporter": "python",
   "pygments_lexer": "ipython3",
   "version": "3.4.5"
  },
  "widgets": {
   "state": {
    "eb159db1380040bfab996b6d9526aa7c": {
     "views": [
      {
       "cell_index": 11
      }
     ]
    }
   },
   "version": "1.2.0"
  }
 },
 "nbformat": 4,
 "nbformat_minor": 0
}
